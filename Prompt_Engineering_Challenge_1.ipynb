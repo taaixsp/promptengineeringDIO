{
  "nbformat": 4,
  "nbformat_minor": 0,
  "metadata": {
    "colab": {
      "provenance": [],
      "authorship_tag": "ABX9TyN7rRAvV06RoPaI2X9GlgME",
      "include_colab_link": true
    },
    "kernelspec": {
      "name": "python3",
      "display_name": "Python 3"
    },
    "language_info": {
      "name": "python"
    }
  },
  "cells": [
    {
      "cell_type": "markdown",
      "metadata": {
        "id": "view-in-github",
        "colab_type": "text"
      },
      "source": [
        "<a href=\"https://colab.research.google.com/github/taaixsp/promptengineeringDIO/blob/main/Prompt_Engineering_Challenge_1.ipynb\" target=\"_parent\"><img src=\"https://colab.research.google.com/assets/colab-badge.svg\" alt=\"Open In Colab\"/></a>"
      ]
    },
    {
      "cell_type": "markdown",
      "source": [
        "**Descrição**\n",
        "\n",
        "Engenharia de Prompts é a prática de criar instruções que direcionem modelos de linguagem a gerar respostas úteis e precisas. Neste desafio, você deverá associar conceitos fundamentais de Engenharia de Prompts às suas descrições.\n",
        "\n",
        "\n",
        "**Entrada**\n",
        "\n",
        "A entrada consistirá nos seguintes conceitos relacionados à Engenharia de Prompts:\n",
        "\n",
        "\"Prompt Simples\"\n",
        "\n",
        "\"Prompt Contextual\"\n",
        "\n",
        "\"Prompt Interativo\"\n",
        "\n",
        "\"Prompt de Refinamento\"\n",
        "\n",
        "**Saída**\n",
        "\n",
        "A saída esperada será a descrição correspondente a cada conceito.\n",
        "\n",
        "\"Instrução direta e breve\"\n",
        "\n",
        "\"Inclui informações adicionais para contexto\"\n",
        "\n",
        "\"Inclui perguntas para envolver o usuário\"\n",
        "\n",
        "\"Solicitação para melhorar uma resposta anterior\"\n",
        "\n",
        "**Exemplos**\n",
        "\n",
        "A tabela abaixo apresenta exemplos com alguns dados de entrada e suas respectivas saídas esperadas. Certifique-se de testar seu programa com esses exemplos e com outros casos possíveis.\n",
        "\n",
        "Entrada\t- Saída\n",
        "\n",
        "Prompt Simples -\tInstrução direta e breve\n",
        "\n",
        "Prompt Contextual -\tInclui informações adicionais para contexto\n",
        "\n",
        "Prompt Interativo -\tInclui perguntas para envolver o usuário\n",
        "\n",
        "Atenção: É extremamente importante que as entradas e saídas sejam exatamente iguais às descritas na descrição do desafio de código.\n",
        "\n",
        "Os desafios apresentados aqui têm como objetivo principal exercitar os conceitos aprendidos e proporcionar um primeiro contato com lógica de programação. Caso não tenha experiência em programação, utilize o template disponível e preencha com os conceitos aprendidos. Para resetar o template, basta clicar em “Restart Code”."
      ],
      "metadata": {
        "id": "oAPoIXDzxXJK"
      }
    },
    {
      "cell_type": "code",
      "source": [
        "#CÓDIGO FORNECIDO\n",
        "\n",
        "# Recebe a entrada do usuário e armazena na variável \"entrada\"\n",
        "entrada = input()\n",
        "\n",
        "# Função responsável por receber um conceito e retornar sua respectiva descrição.\n",
        "def descrever_conceito(conceito):\n",
        "  if conceito == \"Prompt Simples\":\n",
        "    return \"Instrução direta e breve\"\n",
        "\n",
        "# COMPLETE AQUI: Preencha corretamente cada conceito, considerando as descrições abaixo:\n",
        "  elif conceito == \"escreva aqui o conceito correspondente\":\n",
        "    return \"Inclui informações adicionais para contexto\"\n",
        "\n",
        "  elif conceito == \"escreva aqui o conceito correspondente\":\n",
        "    return \"Inclui perguntas para envolver o usuário\"\n",
        "\n",
        "  elif conceito == \"escreva aqui o conceito correspondente\":\n",
        "    return \"Solicitação para melhorar uma resposta anterior\"\n",
        "\n",
        "# Imprime a descrição do conceito recebido na \"entrada\" através da função \"descrever_conceito\".\n",
        "print(descrever_conceito(entrada))"
      ],
      "metadata": {
        "id": "LmXUTQOmxdGN"
      },
      "execution_count": null,
      "outputs": []
    },
    {
      "cell_type": "code",
      "execution_count": null,
      "metadata": {
        "id": "uuctW4tfxNev"
      },
      "outputs": [],
      "source": [
        "#CÓDIGO AJUSTADO DE ACORDO COM SOLICITADO\n",
        "\n",
        "# Recebe a entrada do usuário e armazena na variável \"entrada\"\n",
        "entrada = input()\n",
        "\n",
        "# Função responsável por receber um conceito e retornar sua respectiva descrição.\n",
        "def descrever_conceito(conceito):\n",
        "    if conceito == \"Prompt Simples\":\n",
        "        return \"Instrução direta e breve\"\n",
        "    elif conceito == \"Prompt Contextual\":\n",
        "        return \"Inclui informações adicionais para contexto\"\n",
        "    elif conceito == \"Prompt Interativo\":\n",
        "        return \"Inclui perguntas para envolver o usuário\"\n",
        "    elif conceito == \"Prompt de Refinamento\":\n",
        "        return \"Solicitação para melhorar uma resposta anterior\"\n",
        "\n",
        "# Imprime a descrição do conceito recebido na \"entrada\" através da função \"descrever_conceito\".\n",
        "print(descrever_conceito(entrada))"
      ]
    },
    {
      "cell_type": "markdown",
      "source": [],
      "metadata": {
        "id": "P76bJzxDxb76"
      }
    }
  ]
}