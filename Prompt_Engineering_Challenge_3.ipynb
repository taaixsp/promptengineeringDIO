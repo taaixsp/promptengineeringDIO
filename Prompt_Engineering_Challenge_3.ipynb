{
  "nbformat": 4,
  "nbformat_minor": 0,
  "metadata": {
    "colab": {
      "provenance": [],
      "authorship_tag": "ABX9TyM/Lpu3d45GNE7p860crdoP",
      "include_colab_link": true
    },
    "kernelspec": {
      "name": "python3",
      "display_name": "Python 3"
    },
    "language_info": {
      "name": "python"
    }
  },
  "cells": [
    {
      "cell_type": "markdown",
      "metadata": {
        "id": "view-in-github",
        "colab_type": "text"
      },
      "source": [
        "<a href=\"https://colab.research.google.com/github/taaixsp/promptengineeringDIO/blob/main/Prompt_Engineering_Challenge_3.ipynb\" target=\"_parent\"><img src=\"https://colab.research.google.com/assets/colab-badge.svg\" alt=\"Open In Colab\"/></a>"
      ]
    },
    {
      "cell_type": "markdown",
      "source": [
        "**Descrição**\n",
        "\n",
        "Refinar prompts é uma habilidade essencial para melhorar a qualidade das respostas geradas por modelos de linguagem. Neste desafio, você deve associar estratégias de refinamento às suas respectivas descrições.\n",
        "\n",
        "\n",
        "**Entrada**\n",
        "\n",
        "A entrada consistirá nos seguintes conceitos relacionados a estratégias de refinamento de prompts:\n",
        "\n",
        "\"Especificidade\"\n",
        "\n",
        "\"Divisão em Passos\"\n",
        "\n",
        "\"Inserção de Exemplos\"\n",
        "\n",
        "\"Reformulação\"\n",
        "\n",
        "**Saída**\n",
        "\n",
        "A saída esperada será a descrição correspondente a cada conceito.\n",
        "\n",
        "\"Adicionar detalhes para reduzir ambiguidades\"\n",
        "\n",
        "\"Quebrar tarefas em etapas menores\"\n",
        "\n",
        "\"Fornecer exemplos para contextualizar\"\n",
        "\n",
        "\"Alterar o formato para maior clareza\"\n",
        "\n",
        "\n",
        "**Exemplos**\n",
        "\n",
        "A tabela abaixo apresenta exemplos com alguns dados de entrada e suas respectivas saídas esperadas. Certifique-se de testar seu programa com esses exemplos e com outros casos possíveis.\n",
        "\n",
        "**Entrada\tSaída**\n",
        "\n",
        "Especificidade\tAdicionar detalhes para reduzir ambiguidades\n",
        "Divisão em Passos\tQuebrar tarefas em etapas menores\n",
        "Inserção de Exemplos\tFornecer exemplos para contextualizar\n",
        "Atenção: É extremamente importante que as entradas e saídas sejam exatamente iguais às descritas na descrição do desafio de código.\n",
        "\n",
        "\n",
        "Os desafios apresentados aqui têm como objetivo principal exercitar os conceitos aprendidos e proporcionar um primeiro contato com lógica de programação. Caso não tenha experiência em programação, utilize o template disponível e preencha com os conceitos aprendidos. Para resetar o template, basta clicar em “Restart Code”."
      ],
      "metadata": {
        "id": "7q_3Rn-tzF4e"
      }
    },
    {
      "cell_type": "code",
      "source": [
        "#CÓDIGO FORNECIDO\n",
        "\n",
        "# Recebe a entrada do usuário e armazena na variável \"entrada\"\n",
        "entrada = input()\n",
        "\n",
        "# Função responsável por receber um conceito e retornar sua respectiva descrição.\n",
        "def descrever_conceito(conceito):\n",
        "  if conceito == \"Especificidade\":\n",
        "    return \"Adicionar detalhes para reduzir ambiguidades\"\n",
        "\n",
        "# COMPLETE AQUI: Preencha corretamente cada conceito, considerando as descrições abaixo:\n",
        "  elif conceito == \"escreva aqui o conceito correspondente\":\n",
        "    return \"Quebrar tarefas em etapas menores\"\n",
        "\n",
        "  elif conceito == \"escreva aqui o conceito correspondente\":\n",
        "    return \"Fornecer exemplos para contextualizar\"\n",
        "\n",
        "  elif conceito == \"escreva aqui o conceito correspondente\":\n",
        "    return \"Alterar o formato para maior clareza\"\n",
        "\n",
        "# Imprime a descrição do conceito recebido na \"entrada\" através da função \"descrever_conceito\".\n",
        "print(descrever_conceito(entrada))"
      ],
      "metadata": {
        "id": "vFLl98ouzLiD"
      },
      "execution_count": null,
      "outputs": []
    },
    {
      "cell_type": "code",
      "execution_count": null,
      "metadata": {
        "id": "dRt9fQTqy9Xz"
      },
      "outputs": [],
      "source": [
        "#CÓDIGO AJUSTADO DE ACORDO COM SOLICITADO\n",
        "\n",
        "# Recebe a entrada do usuário e armazena na variável \"entrada\"\n",
        "entrada = input()\n",
        "\n",
        "# Função responsável por receber um conceito e retornar sua respectiva descrição.\n",
        "def descrever_conceito(conceito):\n",
        "    if conceito == \"Especificidade\":\n",
        "        return \"Adicionar detalhes para reduzir ambiguidades\"\n",
        "    elif conceito == \"Divisão em Passos\":\n",
        "        return \"Quebrar tarefas em etapas menores\"\n",
        "    elif conceito == \"Inserção de Exemplos\":\n",
        "        return \"Fornecer exemplos para contextualizar\"\n",
        "    elif conceito == \"Reformulação\":\n",
        "        return \"Alterar o formato para maior clareza\"\n",
        "\n",
        "# Imprime a descrição do conceito recebido na \"entrada\" através da função \"descrever_conceito\".\n",
        "print(descrever_conceito(entrada))"
      ]
    }
  ]
}