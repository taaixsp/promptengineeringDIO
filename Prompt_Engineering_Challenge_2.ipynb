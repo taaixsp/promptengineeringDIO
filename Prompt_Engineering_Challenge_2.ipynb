{
  "nbformat": 4,
  "nbformat_minor": 0,
  "metadata": {
    "colab": {
      "provenance": [],
      "authorship_tag": "ABX9TyONCe7Yg5+Mh0KjHV9YH7y/",
      "include_colab_link": true
    },
    "kernelspec": {
      "name": "python3",
      "display_name": "Python 3"
    },
    "language_info": {
      "name": "python"
    }
  },
  "cells": [
    {
      "cell_type": "markdown",
      "metadata": {
        "id": "view-in-github",
        "colab_type": "text"
      },
      "source": [
        "<a href=\"https://colab.research.google.com/github/taaixsp/promptengineeringDIO/blob/main/Prompt_Engineering_Challenge_2.ipynb\" target=\"_parent\"><img src=\"https://colab.research.google.com/assets/colab-badge.svg\" alt=\"Open In Colab\"/></a>"
      ]
    },
    {
      "cell_type": "markdown",
      "source": [
        "**Descrição**\n",
        "\n",
        "Prompts claros são essenciais para respostas eficazes. Neste desafio, você deve classificar os conceitos relacionados à clareza de prompts e associá-los às descrições corretas.\n",
        "\n",
        "\n",
        "**Entrada**\n",
        "\n",
        "A entrada consistirá nos seguintes conceitos relacionados à clareza de prompts:\n",
        "\n",
        "\"Claro\"\n",
        "\n",
        "\"Ambíguo\"\n",
        "\n",
        "\"Diretivo\"\n",
        "\n",
        "\"Indireto\"\n",
        "\n",
        "**Saída**\n",
        "\n",
        "A saída esperada será a descrição correspondente a cada conceito.\n",
        "\n",
        "\"Mensagem objetiva e específica\"\n",
        "\n",
        "\"Mensagem vaga e imprecisa\"\n",
        "\n",
        "\"Instrução clara para uma tarefa específica\"\n",
        "\n",
        "\"Pergunta geral que permite interpretações amplas\"\n",
        "\n",
        "**Exemplos**\n",
        "\n",
        "A tabela abaixo apresenta exemplos com alguns dados de entrada e suas respectivas saídas esperadas. Certifique-se de testar seu programa com esses exemplos e com outros casos possíveis.\n",
        "\n",
        "Entrada\t- Saída\n",
        "\n",
        "Claro -\tMensagem objetiva e específica\n",
        "\n",
        "Ambíguo -\tMensagem vaga e imprecisa\n",
        "\n",
        "Diretivo -\tInstrução clara para uma tarefa específica\n",
        "\n",
        "Atenção: É extremamente importante que as entradas e saídas sejam exatamente iguais às descritas na descrição do desafio de código.\n",
        "\n",
        "Os desafios apresentados aqui têm como objetivo principal exercitar os conceitos aprendidos e proporcionar um primeiro contato com lógica de programação. Caso não tenha experiência em programação, utilize o template disponível e preencha com os conceitos aprendidos. Para resetar o template, basta clicar em “Restart Code”."
      ],
      "metadata": {
        "id": "Z2PzLpMVyijO"
      }
    },
    {
      "cell_type": "code",
      "source": [
        "#CÓDIGO FORNECIDO\n",
        "\n",
        "# Recebe a entrada do usuário e armazena na variável \"entrada\"\n",
        "entrada = input()\n",
        "\n",
        "# Função responsável por receber um conceito e retornar sua respectiva descrição.\n",
        "def descrever_conceito(conceito):\n",
        "  if conceito == \"Claro\":\n",
        "    return \"Mensagem objetiva e específica\"\n",
        "\n",
        "# COMPLETE AQUI: Preencha corretamente cada conceito, considerando as descrições abaixo:\n",
        "  elif conceito == \"escreva aqui o conceito correspondente\":\n",
        "    return \"Mensagem vaga e imprecisa\"\n",
        "\n",
        "  elif conceito == \"escreva aqui o conceito correspondente\":\n",
        "    return \"Instrução clara para uma tarefa específica\"\n",
        "\n",
        "  elif conceito == \"escreva aqui o conceito correspondente\":\n",
        "    return \"Pergunta geral que permite interpretações amplas\"\n",
        "\n",
        "# Imprime a descrição do conceito recebido na \"entrada\" através da função \"descrever_conceito\".\n",
        "print(descrever_conceito(entrada))"
      ],
      "metadata": {
        "id": "SB2ogmiNyo1I"
      },
      "execution_count": null,
      "outputs": []
    },
    {
      "cell_type": "code",
      "execution_count": null,
      "metadata": {
        "id": "aR6CcFKiyESN"
      },
      "outputs": [],
      "source": [
        "#CÓDIGO AJUSTADO DE ACORDO COM SOLICITADO\n",
        "\n",
        "# Recebe a entrada do usuário e armazena na variável \"entrada\"\n",
        "entrada = input()\n",
        "\n",
        "# Função responsável por receber um conceito e retornar sua respectiva descrição.\n",
        "def descrever_conceito(conceito):\n",
        "    if conceito == \"Claro\":\n",
        "        return \"Mensagem objetiva e específica\"\n",
        "    elif conceito == \"Ambíguo\":\n",
        "        return \"Mensagem vaga e imprecisa\"\n",
        "    elif conceito == \"Diretivo\":\n",
        "        return \"Instrução clara para uma tarefa específica\"\n",
        "    elif conceito == \"Indireto\":\n",
        "        return \"Pergunta geral que permite interpretações amplas\"\n",
        "\n",
        "# Imprime a descrição do conceito recebido na \"entrada\" através da função \"descrever_conceito\".\n",
        "print(descrever_conceito(entrada))"
      ]
    }
  ]
}